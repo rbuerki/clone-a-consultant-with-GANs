{
 "cells": [
  {
   "cell_type": "markdown",
   "metadata": {
    "toc": true
   },
   "source": [
    "<h1>Table of Contents<span class=\"tocSkip\"></span></h1>\n",
    "<div class=\"toc\"><ul class=\"toc-item\"></ul></div>"
   ]
  },
  {
   "cell_type": "code",
   "execution_count": 14,
   "metadata": {
    "ExecuteTime": {
     "end_time": "2020-05-22T07:38:48.299873Z",
     "start_time": "2020-05-22T07:38:45.643737Z"
    }
   },
   "outputs": [],
   "source": [
    "import os\n",
    "import sys\n",
    "\n",
    "import pandas as pd\n",
    "import boto3"
   ]
  },
  {
   "cell_type": "code",
   "execution_count": 6,
   "metadata": {
    "ExecuteTime": {
     "end_time": "2020-05-22T07:38:50.051443Z",
     "start_time": "2020-05-22T07:38:49.795733Z"
    }
   },
   "outputs": [],
   "source": [
    "# Instantiate the s3 client\n",
    "s3 = boto3.client('s3')"
   ]
  },
  {
   "cell_type": "markdown",
   "metadata": {},
   "source": [
    "# Upload directories to S3\n",
    "\n",
    "There is nothing in the boto library itself that would allow you to upload an entire directory. So we have to write your own code to traverse the directory using os.walk to upload each individual file using boto.\n",
    "\n",
    "(There is a command line utility in boto called `s3put` that could handle this or the AWS CLI tool which has a lot of features that allow uploading entire directories or even [sync](https://awscli.amazonaws.com/v2/documentation/api/latest/reference/s3/sync.html) the S3 bucket with a local directory or vice-versa.)"
   ]
  },
  {
   "cell_type": "code",
   "execution_count": 7,
   "metadata": {
    "ExecuteTime": {
     "end_time": "2020-05-22T07:38:56.588040Z",
     "start_time": "2020-05-22T07:38:56.191360Z"
    }
   },
   "outputs": [
    {
     "name": "stdout",
     "output_type": "stream",
     "text": [
      "elasticbeanstalk-us-east-2-873674308518\n",
      "raph-dend-zh-data\n"
     ]
    }
   ],
   "source": [
    "# Check my buckets\n",
    "response = s3.list_buckets()\n",
    "for bucket in response['Buckets']:\n",
    "    print(bucket['Name'])"
   ]
  },
  {
   "cell_type": "markdown",
   "metadata": {},
   "source": [
    "Is a key value store with a flat structure and technically does not have folders (although it supports the concept). That's why you work with prefix \"keys\" in file names like `abc/xys/uvw/123.jpg`.\n",
    "\n",
    "More infos here: [How do I use folders in S3?](https://docs.aws.amazon.com/AmazonS3/latest/user-guide/using-folders.html)\n",
    "\n"
   ]
  },
  {
   "cell_type": "code",
   "execution_count": 20,
   "metadata": {
    "ExecuteTime": {
     "start_time": "2020-05-22T12:12:46.212Z"
    }
   },
   "outputs": [
    {
     "name": "stdout",
     "output_type": "stream",
     "text": [
      "File found on S3! Skipping data/raw/dimdate/dimdate.csv...\n",
      "File found on S3! Skipping data/raw/dimdate/dimdate_prep.csv...\n",
      "File found on S3! Skipping data/raw/dimtime/dimtime.csv...\n",
      "File found on S3! Skipping data/raw/luftqualitaet/ugz_luftqualitaetsmessungen_1983-2011.csv...\n",
      "File found on S3! Skipping data/raw/luftqualitaet/ugz_luftqualitaetsmessung_seit-2012.csv...\n",
      "Uploading data/raw/stationen/locations_non_mot.csv ...\n",
      "File found on S3! Skipping data/raw/stationen/standorte_luftqualitaet.json...\n",
      "File found on S3! Skipping data/raw/stationen/standorte_verkehrszaehlung.json...\n",
      "File found on S3! Skipping data/raw/stationen/standorte_wetter.json...\n",
      "File found on S3! Skipping data/raw/stationen/vz_jsonpaths.txt...\n",
      "File found on S3! Skipping data/raw/verkehrszaehlungen/mot/sid_dav_verkehrszaehlung_miv_od2031_2012.csv...\n",
      "File found on S3! Skipping data/raw/verkehrszaehlungen/mot/sid_dav_verkehrszaehlung_miv_od2031_2013.csv...\n",
      "File found on S3! Skipping data/raw/verkehrszaehlungen/mot/sid_dav_verkehrszaehlung_miv_od2031_2014.csv...\n",
      "File found on S3! Skipping data/raw/verkehrszaehlungen/mot/sid_dav_verkehrszaehlung_miv_od2031_2015.csv...\n",
      "File found on S3! Skipping data/raw/verkehrszaehlungen/mot/sid_dav_verkehrszaehlung_miv_od2031_2016.csv...\n",
      "File found on S3! Skipping data/raw/verkehrszaehlungen/mot/sid_dav_verkehrszaehlung_miv_od2031_2017.csv...\n",
      "File found on S3! Skipping data/raw/verkehrszaehlungen/mot/sid_dav_verkehrszaehlung_miv_od2031_2018.csv...\n",
      "File found on S3! Skipping data/raw/verkehrszaehlungen/mot/sid_dav_verkehrszaehlung_miv_od2031_2019.csv...\n",
      "File found on S3! Skipping data/raw/verkehrszaehlungen/mot/sid_dav_verkehrszaehlung_miv_od2031_2020.csv...\n",
      "File found on S3! Skipping data/raw/verkehrszaehlungen/non_mot/2010_verkehrszaehlungen_werte_fussgaenger_velo.csv...\n",
      "File found on S3! Skipping data/raw/verkehrszaehlungen/non_mot/2011_verkehrszaehlungen_werte_fussgaenger_velo.csv...\n",
      "File found on S3! Skipping data/raw/verkehrszaehlungen/non_mot/2012_verkehrszaehlungen_werte_fussgaenger_velo.csv...\n",
      "File found on S3! Skipping data/raw/verkehrszaehlungen/non_mot/2013_verkehrszaehlungen_werte_fussgaenger_velo.csv...\n",
      "File found on S3! Skipping data/raw/verkehrszaehlungen/non_mot/2014_verkehrszaehlungen_werte_fussgaenger_velo.csv...\n",
      "File found on S3! Skipping data/raw/verkehrszaehlungen/non_mot/2015_verkehrszaehlungen_werte_fussgaenger_velo.csv...\n",
      "File found on S3! Skipping data/raw/verkehrszaehlungen/non_mot/2016_verkehrszaehlungen_werte_fussgaenger_velo.csv...\n",
      "File found on S3! Skipping data/raw/verkehrszaehlungen/non_mot/2017_verkehrszaehlungen_werte_fussgaenger_velo.csv...\n",
      "File found on S3! Skipping data/raw/verkehrszaehlungen/non_mot/2018_verkehrszaehlungen_werte_fussgaenger_velo.csv...\n",
      "File found on S3! Skipping data/raw/verkehrszaehlungen/non_mot/2019_verkehrszaehlungen_werte_fussgaenger_velo.csv...\n",
      "File found on S3! Skipping data/raw/verkehrszaehlungen/non_mot/2020_verkehrszaehlungen_werte_fussgaenger_velo.csv...\n",
      "File found on S3! Skipping data/raw/verkehrszaehlungen/non_mot/test.csv...\n",
      "File found on S3! Skipping data/raw/wetter/messwerte_mythenquai_2007-2019.csv...\n"
     ]
    }
   ],
   "source": [
    "import os\n",
    "import sys\n",
    "import boto3\n",
    "\n",
    "\n",
    "# Get local dir (from), S3 bucket and S3 dir (to) from CL\n",
    "# local_dir, bucket, s3_dir = sys.argv[1:4]\n",
    "\n",
    "local_dir = \"data\"\n",
    "bucket = \"raph-dend-zh-data\"\n",
    "s3_dir = \"data\"\n",
    "\n",
    "# Enumerate local files recursively\n",
    "for root, dirs, files in os.walk(local_dir):\n",
    "    for filename in files:\n",
    "        # Construct the full local path\n",
    "        local_path = os.path.join(root, filename)\n",
    "        # Construct the full S3 path, set \"/\" as delimiter for key prefix\n",
    "        relative_path = os.path.relpath(local_path, local_dir)\n",
    "        if s3_dir is not None:\n",
    "            s3_path = os.path.join(s3_dir, relative_path).replace(\"\\\\\", \"/\")\n",
    "        else:\n",
    "            s3_path = relative_path.replace(\"\\\\\", \"/\")\n",
    "        # Check if file already exists, if not upload file\n",
    "        try:\n",
    "            s3.head_object(Bucket=bucket, Key=s3_path)\n",
    "            print(\"File found on S3! Skipping %s...\" % s3_path)\n",
    "        except:\n",
    "            print(f\"Uploading {s3_path} ...\")\n",
    "            s3.upload_file(local_path, bucket, s3_path)        "
   ]
  },
  {
   "cell_type": "code",
   "execution_count": null,
   "metadata": {},
   "outputs": [],
   "source": []
  }
 ],
 "metadata": {
  "hide_input": false,
  "kernelspec": {
   "display_name": "Python 3",
   "language": "python",
   "name": "python3"
  },
  "language_info": {
   "codemirror_mode": {
    "name": "ipython",
    "version": 3
   },
   "file_extension": ".py",
   "mimetype": "text/x-python",
   "name": "python",
   "nbconvert_exporter": "python",
   "pygments_lexer": "ipython3",
   "version": "3.8.5"
  },
  "toc": {
   "base_numbering": 1,
   "nav_menu": {},
   "number_sections": true,
   "sideBar": false,
   "skip_h1_title": true,
   "title_cell": "Table of Contents",
   "title_sidebar": "Contents",
   "toc_cell": true,
   "toc_position": {},
   "toc_section_display": true,
   "toc_window_display": false
  }
 },
 "nbformat": 4,
 "nbformat_minor": 4
}
